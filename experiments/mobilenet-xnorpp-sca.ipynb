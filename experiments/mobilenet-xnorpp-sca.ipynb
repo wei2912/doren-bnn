{
 "cells": [
  {
   "cell_type": "code",
   "execution_count": 25,
   "metadata": {},
   "outputs": [
    {
     "name": "stdout",
     "output_type": "stream",
     "text": [
      "The autoreload extension is already loaded. To reload it, use:\n",
      "  %reload_ext autoreload\n"
     ]
    }
   ],
   "source": [
    "%load_ext autoreload\n",
    "%autoreload 2"
   ]
  },
  {
   "cell_type": "code",
   "execution_count": 26,
   "metadata": {},
   "outputs": [],
   "source": [
    "# define training settings\n",
    "NUM_EPOCHS = 150\n",
    "BATCH_SIZE = 16"
   ]
  },
  {
   "cell_type": "code",
   "execution_count": 27,
   "metadata": {},
   "outputs": [],
   "source": [
    "import torch\n",
    "\n",
    "device = torch.device(\"cuda\" if torch.cuda.is_available() else \"cpu\")"
   ]
  },
  {
   "cell_type": "code",
   "execution_count": 28,
   "metadata": {},
   "outputs": [
    {
     "data": {
      "text/plain": [
       "====================================================================================================\n",
       "Layer (type:depth-idx)                             Output Shape              Param #\n",
       "====================================================================================================\n",
       "MobileNet                                          [16, 10]                  --\n",
       "├─Upsample: 1-1                                    [16, 3, 224, 224]         --\n",
       "├─Sequential: 1-2                                  [16, 1024, 1, 1]          --\n",
       "│    └─MobileNet_ConvBlock: 2-1                    [16, 32, 112, 112]        --\n",
       "│    │    └─Sequential: 3-1                        [16, 32, 112, 112]        902\n",
       "│    └─MobileNet_ConvDsBlock: 2-2                  [16, 64, 112, 112]        --\n",
       "│    │    └─Sequential: 3-2                        [16, 64, 112, 112]        2,560\n",
       "│    └─MobileNet_ConvDsBlock: 2-3                  [16, 128, 56, 56]         --\n",
       "│    │    └─Sequential: 3-3                        [16, 128, 56, 56]         9,216\n",
       "│    └─MobileNet_ConvDsBlock: 2-4                  [16, 128, 56, 56]         --\n",
       "│    │    └─Sequential: 3-4                        [16, 128, 56, 56]         18,304\n",
       "│    └─MobileNet_ConvDsBlock: 2-5                  [16, 256, 28, 28]         --\n",
       "│    │    └─Sequential: 3-5                        [16, 256, 28, 28]         34,816\n",
       "│    └─MobileNet_ConvDsBlock: 2-6                  [16, 256, 28, 28]         --\n",
       "│    │    └─Sequential: 3-6                        [16, 256, 28, 28]         69,376\n",
       "│    └─MobileNet_ConvDsBlock: 2-7                  [16, 512, 14, 14]         --\n",
       "│    │    └─Sequential: 3-7                        [16, 512, 14, 14]         135,168\n",
       "│    └─MobileNet_ConvDsBlock: 2-8                  [16, 512, 14, 14]         --\n",
       "│    │    └─Sequential: 3-8                        [16, 512, 14, 14]         269,824\n",
       "│    └─MobileNet_ConvDsBlock: 2-9                  [16, 512, 14, 14]         --\n",
       "│    │    └─Sequential: 3-9                        [16, 512, 14, 14]         269,824\n",
       "│    └─MobileNet_ConvDsBlock: 2-10                 [16, 512, 14, 14]         --\n",
       "│    │    └─Sequential: 3-10                       [16, 512, 14, 14]         269,824\n",
       "│    └─MobileNet_ConvDsBlock: 2-11                 [16, 512, 14, 14]         --\n",
       "│    │    └─Sequential: 3-11                       [16, 512, 14, 14]         269,824\n",
       "│    └─MobileNet_ConvDsBlock: 2-12                 [16, 512, 14, 14]         --\n",
       "│    │    └─Sequential: 3-12                       [16, 512, 14, 14]         269,824\n",
       "│    └─MobileNet_ConvDsBlock: 2-13                 [16, 1024, 7, 7]          --\n",
       "│    │    └─Sequential: 3-13                       [16, 1024, 7, 7]          532,480\n",
       "│    └─MobileNet_ConvDsBlock: 2-14                 [16, 1024, 7, 7]          --\n",
       "│    │    └─Sequential: 3-14                       [16, 1024, 7, 7]          1,063,936\n",
       "│    └─AdaptiveAvgPool2d: 2-15                     [16, 1024, 1, 1]          --\n",
       "├─Linear: 1-3                                      [16, 10]                  10,250\n",
       "====================================================================================================\n",
       "Total params: 3,226,128\n",
       "Trainable params: 3,226,128\n",
       "Non-trainable params: 0\n",
       "Total mult-adds (G): 9.08\n",
       "====================================================================================================\n",
       "Input size (MB): 0.20\n",
       "Forward/backward pass size (MB): 1303.77\n",
       "Params size (MB): 12.90\n",
       "Estimated Total Size (MB): 1316.88\n",
       "===================================================================================================="
      ]
     },
     "execution_count": 28,
     "metadata": {},
     "output_type": "execute_result"
    }
   ],
   "source": [
    "from doren_bnn.mobilenet import MobileNet, NetType\n",
    "from torchinfo import summary\n",
    "\n",
    "NETTYPE = NetType.XNORPP_SCA\n",
    "model = MobileNet(3, num_classes=10, nettype=NETTYPE).to(device)\n",
    "\n",
    "summary(model, input_size=(BATCH_SIZE, 3, 32, 32))"
   ]
  },
  {
   "cell_type": "code",
   "execution_count": 29,
   "metadata": {},
   "outputs": [],
   "source": [
    "from torch.nn import CrossEntropyLoss\n",
    "from torch.optim import AdamW\n",
    "from torch.optim.lr_scheduler import CosineAnnealingWarmRestarts\n",
    "\n",
    "criterion = CrossEntropyLoss().to(device)\n",
    "optimizer = AdamW(model.parameters(), lr=1e-3, weight_decay=5e-6)\n",
    "scheduler = CosineAnnealingWarmRestarts(optimizer, 25, eta_min=1e-4)"
   ]
  },
  {
   "cell_type": "code",
   "execution_count": 30,
   "metadata": {},
   "outputs": [],
   "source": [
    "# hyperparameters\n",
    "ALPHA = 1e-2\n",
    "LAMBDA = 1e-5"
   ]
  },
  {
   "cell_type": "code",
   "execution_count": 31,
   "metadata": {},
   "outputs": [
    {
     "name": "stdout",
     "output_type": "stream",
     "text": [
      "mobilenet-xnorpp-sca-full-0.01-1e-05\n",
      "Files already downloaded and verified\n",
      "Files already downloaded and verified\n"
     ]
    }
   ],
   "source": [
    "from doren_bnn.utils import Dataset, Experiment\n",
    "\n",
    "EXPERIMENT_ID = f\"mobilenet-xnorpp-sca-full-{ALPHA}-{LAMBDA}\"\n",
    "print(EXPERIMENT_ID)\n",
    "experiment = Experiment(EXPERIMENT_ID, Dataset.CIFAR10, BATCH_SIZE)"
   ]
  },
  {
   "cell_type": "code",
   "execution_count": 32,
   "metadata": {},
   "outputs": [
    {
     "data": {
      "application/vnd.jupyter.widget-view+json": {
       "model_id": "56b8c8e858834b63aa75924fae751555",
       "version_major": 2,
       "version_minor": 0
      },
      "text/plain": [
       "  0%|          | 0/150 [00:00<?, ?it/s]"
      ]
     },
     "metadata": {},
     "output_type": "display_data"
    }
   ],
   "source": [
    "experiment.train(\n",
    "    device,\n",
    "    model,\n",
    "    criterion,\n",
    "    optimizer,\n",
    "    scheduler,\n",
    "    NUM_EPOCHS,\n",
    "    resume=False,\n",
    "    alpha=ALPHA,\n",
    "    lamb=LAMBDA,\n",
    ")"
   ]
  },
  {
   "cell_type": "code",
   "execution_count": null,
   "metadata": {},
   "outputs": [],
   "source": [
    "experiment.test(device, model)"
   ]
  },
  {
   "cell_type": "code",
   "execution_count": null,
   "metadata": {},
   "outputs": [],
   "source": []
  }
 ],
 "metadata": {
  "kernelspec": {
   "display_name": "Python 3.10.5 ('doren-bnn-Z3Z8sIfT-py3.10')",
   "language": "python",
   "name": "python3"
  },
  "language_info": {
   "codemirror_mode": {
    "name": "ipython",
    "version": 3
   },
   "file_extension": ".py",
   "mimetype": "text/x-python",
   "name": "python",
   "nbconvert_exporter": "python",
   "pygments_lexer": "ipython3",
   "version": "3.10.5"
  },
  "orig_nbformat": 4,
  "vscode": {
   "interpreter": {
    "hash": "e83aaab8b010134e55ad60062ddf3e0da69d95d3f62b8b83a253f488e46fa313"
   }
  }
 },
 "nbformat": 4,
 "nbformat_minor": 2
}
