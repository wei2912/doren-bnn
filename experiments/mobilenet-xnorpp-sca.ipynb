{
 "cells": [
  {
   "cell_type": "code",
   "execution_count": 25,
   "metadata": {},
   "outputs": [],
   "source": [
    "%reset"
   ]
  },
  {
   "cell_type": "code",
   "execution_count": 26,
   "metadata": {},
   "outputs": [],
   "source": [
    "# define training settings\n",
    "NUM_EPOCHS = 400\n",
    "BATCH_SIZE = 128"
   ]
  },
  {
   "cell_type": "code",
   "execution_count": 27,
   "metadata": {},
   "outputs": [],
   "source": [
    "import torch\n",
    "\n",
    "device = torch.device(\"cuda\" if torch.cuda.is_available() else \"cpu\")"
   ]
  },
  {
   "cell_type": "code",
   "execution_count": 28,
   "metadata": {},
   "outputs": [
    {
     "data": {
      "text/plain": [
       "====================================================================================================\n",
       "Layer (type:depth-idx)                             Output Shape              Param #\n",
       "====================================================================================================\n",
       "MobileNet                                          [128, 10]                 --\n",
       "├─Sequential: 1-1                                  [128, 1024, 1, 1]         --\n",
       "│    └─MobileNet_ConvBlock: 2-1                    [128, 32, 16, 16]         --\n",
       "│    │    └─Sequential: 3-1                        [128, 32, 16, 16]         902\n",
       "│    └─MobileNet_ConvDsBlock: 2-2                  [128, 64, 16, 16]         --\n",
       "│    │    └─Sequential: 3-2                        [128, 64, 16, 16]         2,560\n",
       "│    └─MobileNet_ConvDsBlock: 2-3                  [128, 128, 8, 8]          --\n",
       "│    │    └─Sequential: 3-3                        [128, 128, 8, 8]          9,216\n",
       "│    └─MobileNet_ConvDsBlock: 2-4                  [128, 128, 8, 8]          --\n",
       "│    │    └─Sequential: 3-4                        [128, 128, 8, 8]          18,304\n",
       "│    └─MobileNet_ConvDsBlock: 2-5                  [128, 256, 4, 4]          --\n",
       "│    │    └─Sequential: 3-5                        [128, 256, 4, 4]          34,816\n",
       "│    └─MobileNet_ConvDsBlock: 2-6                  [128, 256, 4, 4]          --\n",
       "│    │    └─Sequential: 3-6                        [128, 256, 4, 4]          69,376\n",
       "│    └─MobileNet_ConvDsBlock: 2-7                  [128, 512, 2, 2]          --\n",
       "│    │    └─Sequential: 3-7                        [128, 512, 2, 2]          135,168\n",
       "│    └─MobileNet_ConvDsBlock: 2-8                  [128, 512, 2, 2]          --\n",
       "│    │    └─Sequential: 3-8                        [128, 512, 2, 2]          269,824\n",
       "│    └─MobileNet_ConvDsBlock: 2-9                  [128, 512, 2, 2]          --\n",
       "│    │    └─Sequential: 3-9                        [128, 512, 2, 2]          269,824\n",
       "│    └─MobileNet_ConvDsBlock: 2-10                 [128, 512, 2, 2]          --\n",
       "│    │    └─Sequential: 3-10                       [128, 512, 2, 2]          269,824\n",
       "│    └─MobileNet_ConvDsBlock: 2-11                 [128, 512, 2, 2]          --\n",
       "│    │    └─Sequential: 3-11                       [128, 512, 2, 2]          269,824\n",
       "│    └─MobileNet_ConvDsBlock: 2-12                 [128, 512, 2, 2]          --\n",
       "│    │    └─Sequential: 3-12                       [128, 512, 2, 2]          269,824\n",
       "│    └─MobileNet_ConvDsBlock: 2-13                 [128, 1024, 1, 1]         --\n",
       "│    │    └─Sequential: 3-13                       [128, 1024, 1, 1]         532,480\n",
       "│    └─MobileNet_ConvDsBlock: 2-14                 [128, 1024, 1, 1]         --\n",
       "│    │    └─Sequential: 3-14                       [128, 1024, 1, 1]         1,063,936\n",
       "│    └─AdaptiveAvgPool2d: 2-15                     [128, 1024, 1, 1]         --\n",
       "├─Linear: 1-2                                      [128, 10]                 10,250\n",
       "====================================================================================================\n",
       "Total params: 3,226,128\n",
       "Trainable params: 3,226,128\n",
       "Non-trainable params: 0\n",
       "Total mult-adds (G): 1.49\n",
       "====================================================================================================\n",
       "Input size (MB): 1.57\n",
       "Forward/backward pass size (MB): 212.87\n",
       "Params size (MB): 12.90\n",
       "Estimated Total Size (MB): 227.35\n",
       "===================================================================================================="
      ]
     },
     "execution_count": 28,
     "metadata": {},
     "output_type": "execute_result"
    }
   ],
   "source": [
    "from doren_bnn.mobilenet import MobileNet, NetType\n",
    "from torchinfo import summary\n",
    "\n",
    "NETTYPE = NetType.XNORPP_SCA\n",
    "model = MobileNet(3, num_classes=10, nettype=NETTYPE).to(device)\n",
    "\n",
    "summary(model, input_size=(BATCH_SIZE, 3, 32, 32))"
   ]
  },
  {
   "cell_type": "code",
   "execution_count": 29,
   "metadata": {},
   "outputs": [],
   "source": [
    "from torch.nn import CrossEntropyLoss\n",
    "from torch.optim import AdamW\n",
    "from torch.optim.lr_scheduler import CosineAnnealingWarmRestarts\n",
    "\n",
    "criterion = CrossEntropyLoss().to(device)\n",
    "optimizer = AdamW(model.parameters(), lr=1e-3, weight_decay=5e-6)\n",
    "scheduler = CosineAnnealingWarmRestarts(optimizer, 25, eta_min=1e-3)"
   ]
  },
  {
   "cell_type": "code",
   "execution_count": 30,
   "metadata": {},
   "outputs": [],
   "source": [
    "# hyperparameters\n",
    "ALPHA = 1e-2\n",
    "LAMBDA = 1e-3"
   ]
  },
  {
   "cell_type": "code",
   "execution_count": 31,
   "metadata": {},
   "outputs": [
    {
     "name": "stdout",
     "output_type": "stream",
     "text": [
      "Files already downloaded and verified\n",
      "Files already downloaded and verified\n"
     ]
    }
   ],
   "source": [
    "from doren_bnn.utils import Dataset, Experiment\n",
    "\n",
    "EXPERIMENT_ID = f\"mobilenet-xnorpp-sca-{ALPHA}-{LAMBDA}\"\n",
    "experiment = Experiment(EXPERIMENT_ID, Dataset.CIFAR10, BATCH_SIZE)"
   ]
  },
  {
   "cell_type": "code",
   "execution_count": 32,
   "metadata": {},
   "outputs": [
    {
     "data": {
      "application/vnd.jupyter.widget-view+json": {
       "model_id": "ace13132e48140f09dc06bc3772b125f",
       "version_major": 2,
       "version_minor": 0
      },
      "text/plain": [
       "  0%|          | 0/400 [00:00<?, ?it/s]"
      ]
     },
     "metadata": {},
     "output_type": "display_data"
    }
   ],
   "source": [
    "experiment.train(\n",
    "    device,\n",
    "    model,\n",
    "    criterion,\n",
    "    optimizer,\n",
    "    scheduler,\n",
    "    NUM_EPOCHS,\n",
    "    resume=False,\n",
    "    alpha=ALPHA,\n",
    "    lamb=LAMBDA,\n",
    ")"
   ]
  },
  {
   "cell_type": "code",
   "execution_count": 33,
   "metadata": {},
   "outputs": [
    {
     "name": "stdout",
     "output_type": "stream",
     "text": [
      "tensor([[-0.0346,  0.0354, -0.0795,  0.1035, -0.1381, -0.1777, -0.2592, -0.0901,\n",
      "         -0.0826,  0.0023],\n",
      "        [-0.0346,  0.0354, -0.0795,  0.1035, -0.1381, -0.1777, -0.2592, -0.0901,\n",
      "         -0.0826,  0.0023]], device='cuda:0', grad_fn=<SliceBackward0>)\n"
     ]
    }
   ],
   "source": [
    "experiment.test(device, model)"
   ]
  }
 ],
 "metadata": {
  "kernelspec": {
   "display_name": "Python 3.10.5 ('doren-bnn-Z3Z8sIfT-py3.10')",
   "language": "python",
   "name": "python3"
  },
  "language_info": {
   "codemirror_mode": {
    "name": "ipython",
    "version": 3
   },
   "file_extension": ".py",
   "mimetype": "text/x-python",
   "name": "python",
   "nbconvert_exporter": "python",
   "pygments_lexer": "ipython3",
   "version": "3.10.5"
  },
  "orig_nbformat": 4,
  "vscode": {
   "interpreter": {
    "hash": "e83aaab8b010134e55ad60062ddf3e0da69d95d3f62b8b83a253f488e46fa313"
   }
  }
 },
 "nbformat": 4,
 "nbformat_minor": 2
}
