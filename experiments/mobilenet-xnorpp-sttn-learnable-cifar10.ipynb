{
 "cells": [
  {
   "cell_type": "code",
   "execution_count": 1,
   "metadata": {},
   "outputs": [],
   "source": [
    "%load_ext autoreload\n",
    "%autoreload 2"
   ]
  },
  {
   "cell_type": "code",
   "execution_count": 2,
   "metadata": {},
   "outputs": [],
   "source": [
    "# define training settings\n",
    "NUM_EPOCHS = 150\n",
    "BATCH_SIZE = 128\n",
    "MULTIPLIER = 1.0"
   ]
  },
  {
   "cell_type": "code",
   "execution_count": 3,
   "metadata": {},
   "outputs": [],
   "source": [
    "import torch\n",
    "\n",
    "CUDA_DEVICE = 2\n",
    "\n",
    "torch.cuda.set_device(CUDA_DEVICE)\n",
    "device = torch.device(f\"cuda:{CUDA_DEVICE}\" if torch.cuda.is_available() else \"cpu\")"
   ]
  },
  {
   "cell_type": "code",
   "execution_count": 4,
   "metadata": {},
   "outputs": [
    {
     "data": {
      "text/plain": [
       "====================================================================================================\n",
       "Layer (type:depth-idx)                             Output Shape              Param #\n",
       "====================================================================================================\n",
       "MobileNet                                          [128, 10]                 --\n",
       "├─Upsample: 1-1                                    [128, 3, 224, 224]        --\n",
       "├─Sequential: 1-2                                  [128, 1024, 1, 1]         --\n",
       "│    └─MobileNet_ConvBlock: 2-1                    [128, 32, 112, 112]       --\n",
       "│    │    └─Sequential: 3-1                        [128, 32, 112, 112]       1,766\n",
       "│    └─MobileNet_ConvDsBlock: 2-2                  [128, 64, 112, 112]       --\n",
       "│    │    └─Sequential: 3-2                        [128, 64, 112, 112]       4,896\n",
       "│    └─MobileNet_ConvDsBlock: 2-3                  [128, 128, 56, 56]        --\n",
       "│    │    └─Sequential: 3-3                        [128, 128, 56, 56]        17,984\n",
       "│    └─MobileNet_ConvDsBlock: 2-4                  [128, 128, 56, 56]        --\n",
       "│    │    └─Sequential: 3-4                        [128, 128, 56, 56]        35,840\n",
       "│    └─MobileNet_ConvDsBlock: 2-5                  [128, 256, 28, 28]        --\n",
       "│    │    └─Sequential: 3-5                        [128, 256, 28, 28]        68,736\n",
       "│    └─MobileNet_ConvDsBlock: 2-6                  [128, 256, 28, 28]        --\n",
       "│    │    └─Sequential: 3-6                        [128, 256, 28, 28]        137,216\n",
       "│    └─MobileNet_ConvDsBlock: 2-7                  [128, 512, 14, 14]        --\n",
       "│    │    └─Sequential: 3-7                        [128, 512, 14, 14]        268,544\n",
       "│    └─MobileNet_ConvDsBlock: 2-8                  [128, 512, 14, 14]        --\n",
       "│    │    └─Sequential: 3-8                        [128, 512, 14, 14]        536,576\n",
       "│    └─MobileNet_ConvDsBlock: 2-9                  [128, 512, 14, 14]        --\n",
       "│    │    └─Sequential: 3-9                        [128, 512, 14, 14]        536,576\n",
       "│    └─MobileNet_ConvDsBlock: 2-10                 [128, 512, 14, 14]        --\n",
       "│    │    └─Sequential: 3-10                       [128, 512, 14, 14]        536,576\n",
       "│    └─MobileNet_ConvDsBlock: 2-11                 [128, 512, 14, 14]        --\n",
       "│    │    └─Sequential: 3-11                       [128, 512, 14, 14]        536,576\n",
       "│    └─MobileNet_ConvDsBlock: 2-12                 [128, 512, 14, 14]        --\n",
       "│    │    └─Sequential: 3-12                       [128, 512, 14, 14]        536,576\n",
       "│    └─MobileNet_ConvDsBlock: 2-13                 [128, 1024, 7, 7]         --\n",
       "│    │    └─Sequential: 3-13                       [128, 1024, 7, 7]         1,061,376\n",
       "│    └─MobileNet_ConvDsBlock: 2-14                 [128, 1024, 7, 7]         --\n",
       "│    │    └─Sequential: 3-14                       [128, 1024, 7, 7]         2,121,728\n",
       "│    └─AdaptiveAvgPool2d: 2-15                     [128, 1024, 1, 1]         --\n",
       "├─Linear: 1-3                                      [128, 10]                 10,250\n",
       "====================================================================================================\n",
       "Total params: 6,411,216\n",
       "Trainable params: 6,411,216\n",
       "Non-trainable params: 0\n",
       "Total mult-adds (G): 615.02\n",
       "====================================================================================================\n",
       "Input size (MB): 1.57\n",
       "Forward/backward pass size (MB): 10430.20\n",
       "Params size (MB): 25.64\n",
       "Estimated Total Size (MB): 10457.41\n",
       "===================================================================================================="
      ]
     },
     "execution_count": 4,
     "metadata": {},
     "output_type": "execute_result"
    }
   ],
   "source": [
    "from doren_bnn.mobilenet import MobileNet, NetType\n",
    "from torchinfo import summary\n",
    "\n",
    "NETTYPE = NetType.XNORPP_STTN\n",
    "model = MobileNet(3, num_classes=10, nettype=NETTYPE, learnable=True).to(device)\n",
    "\n",
    "summary(model, input_size=(BATCH_SIZE, 3, 32, 32))"
   ]
  },
  {
   "cell_type": "code",
   "execution_count": 5,
   "metadata": {},
   "outputs": [],
   "source": [
    "from torch.nn import CrossEntropyLoss\n",
    "from torch.optim import AdamW\n",
    "\n",
    "# from torch.optim.lr_scheduler import CosineAnnealingWarmRestarts\n",
    "from torch.optim.lr_scheduler import CosineAnnealingLR\n",
    "\n",
    "criterion = CrossEntropyLoss().to(device)\n",
    "optimizer = AdamW(model.parameters(), lr=1e-3, weight_decay=5e-6)\n",
    "# scheduler = CosineAnnealingWarmRestarts(optimizer, 50)\n",
    "scheduler = CosineAnnealingLR(optimizer, NUM_EPOCHS)"
   ]
  },
  {
   "cell_type": "code",
   "execution_count": 6,
   "metadata": {},
   "outputs": [
    {
     "name": "stdout",
     "output_type": "stream",
     "text": [
      "mobilenet-xnorpp-sttn-learnable-cifar10-1.0x\n",
      "Files already downloaded and verified\n",
      "Files already downloaded and verified\n"
     ]
    }
   ],
   "source": [
    "from doren_bnn.utils import Dataset, Experiment\n",
    "\n",
    "EXPERIMENT_ID = f\"mobilenet-xnorpp-sttn-learnable-cifar10-{MULTIPLIER}x\"\n",
    "print(EXPERIMENT_ID)\n",
    "experiment = Experiment(\n",
    "    EXPERIMENT_ID, Dataset.CIFAR10, BATCH_SIZE, multiplier=MULTIPLIER\n",
    ")"
   ]
  },
  {
   "cell_type": "code",
   "execution_count": null,
   "metadata": {},
   "outputs": [],
   "source": [
    "# uncomment if you wish to load a previous checkpoint\n",
    "experiment.load_checkpoint(model, optimizer, scheduler)"
   ]
  },
  {
   "cell_type": "markdown",
   "metadata": {},
   "source": [
    "# Training"
   ]
  },
  {
   "cell_type": "code",
   "execution_count": 8,
   "metadata": {},
   "outputs": [
    {
     "data": {
      "application/vnd.jupyter.widget-view+json": {
       "model_id": "a382121fd0ee43998c3a84b6b42cee9f",
       "version_major": 2,
       "version_minor": 0
      },
      "text/plain": [
       "100%|##########| 150/150 [00:00<?, ?it/s]"
      ]
     },
     "metadata": {},
     "output_type": "display_data"
    }
   ],
   "source": [
    "experiment.train(\n",
    "    model,\n",
    "    criterion,\n",
    "    optimizer,\n",
    "    scheduler,\n",
    "    NUM_EPOCHS,\n",
    "    device=device,\n",
    ")"
   ]
  },
  {
   "cell_type": "markdown",
   "metadata": {},
   "source": [
    "# Test-time Inference"
   ]
  },
  {
   "cell_type": "code",
   "execution_count": 9,
   "metadata": {},
   "outputs": [
    {
     "data": {
      "text/plain": [
       "====================================================================================================\n",
       "Layer (type:depth-idx)                             Output Shape              Param #\n",
       "====================================================================================================\n",
       "MobileNet                                          [128, 10]                 --\n",
       "├─Upsample: 1-1                                    [128, 3, 224, 224]        --\n",
       "├─Sequential: 1-2                                  [128, 1024, 1, 1]         --\n",
       "│    └─MobileNet_ConvBlock: 2-1                    [128, 32, 112, 112]       --\n",
       "│    │    └─Sequential: 3-1                        [128, 32, 112, 112]       1,766\n",
       "│    └─MobileNet_ConvDsBlock: 2-2                  [128, 64, 112, 112]       --\n",
       "│    │    └─Sequential: 3-2                        [128, 64, 112, 112]       4,896\n",
       "│    └─MobileNet_ConvDsBlock: 2-3                  [128, 128, 56, 56]        --\n",
       "│    │    └─Sequential: 3-3                        [128, 128, 56, 56]        17,984\n",
       "│    └─MobileNet_ConvDsBlock: 2-4                  [128, 128, 56, 56]        --\n",
       "│    │    └─Sequential: 3-4                        [128, 128, 56, 56]        35,840\n",
       "│    └─MobileNet_ConvDsBlock: 2-5                  [128, 256, 28, 28]        --\n",
       "│    │    └─Sequential: 3-5                        [128, 256, 28, 28]        68,736\n",
       "│    └─MobileNet_ConvDsBlock: 2-6                  [128, 256, 28, 28]        --\n",
       "│    │    └─Sequential: 3-6                        [128, 256, 28, 28]        137,216\n",
       "│    └─MobileNet_ConvDsBlock: 2-7                  [128, 512, 14, 14]        --\n",
       "│    │    └─Sequential: 3-7                        [128, 512, 14, 14]        268,544\n",
       "│    └─MobileNet_ConvDsBlock: 2-8                  [128, 512, 14, 14]        --\n",
       "│    │    └─Sequential: 3-8                        [128, 512, 14, 14]        536,576\n",
       "│    └─MobileNet_ConvDsBlock: 2-9                  [128, 512, 14, 14]        --\n",
       "│    │    └─Sequential: 3-9                        [128, 512, 14, 14]        536,576\n",
       "│    └─MobileNet_ConvDsBlock: 2-10                 [128, 512, 14, 14]        --\n",
       "│    │    └─Sequential: 3-10                       [128, 512, 14, 14]        536,576\n",
       "│    └─MobileNet_ConvDsBlock: 2-11                 [128, 512, 14, 14]        --\n",
       "│    │    └─Sequential: 3-11                       [128, 512, 14, 14]        536,576\n",
       "│    └─MobileNet_ConvDsBlock: 2-12                 [128, 512, 14, 14]        --\n",
       "│    │    └─Sequential: 3-12                       [128, 512, 14, 14]        536,576\n",
       "│    └─MobileNet_ConvDsBlock: 2-13                 [128, 1024, 7, 7]         --\n",
       "│    │    └─Sequential: 3-13                       [128, 1024, 7, 7]         1,061,376\n",
       "│    └─MobileNet_ConvDsBlock: 2-14                 [128, 1024, 7, 7]         --\n",
       "│    │    └─Sequential: 3-14                       [128, 1024, 7, 7]         2,121,728\n",
       "│    └─AdaptiveAvgPool2d: 2-15                     [128, 1024, 1, 1]         --\n",
       "├─Linear: 1-3                                      [128, 10]                 10,250\n",
       "====================================================================================================\n",
       "Total params: 6,411,216\n",
       "Trainable params: 6,411,216\n",
       "Non-trainable params: 0\n",
       "Total mult-adds (G): 615.02\n",
       "====================================================================================================\n",
       "Input size (MB): 1.57\n",
       "Forward/backward pass size (MB): 10430.20\n",
       "Params size (MB): 25.64\n",
       "Estimated Total Size (MB): 10457.41\n",
       "===================================================================================================="
      ]
     },
     "execution_count": 9,
     "metadata": {},
     "output_type": "execute_result"
    }
   ],
   "source": [
    "from doren_bnn.mobilenet import MobileNet, NetType\n",
    "from torchinfo import summary\n",
    "\n",
    "NETTYPE = NetType.XNORPP_STTN\n",
    "model = MobileNet(3, num_classes=10, nettype=NETTYPE, learnable=True).to(device)\n",
    "\n",
    "summary(model, input_size=(BATCH_SIZE, 3, 32, 32))"
   ]
  },
  {
   "cell_type": "code",
   "execution_count": null,
   "metadata": {},
   "outputs": [],
   "source": [
    "experiment.load_checkpoint(model, optimizer, scheduler)"
   ]
  },
  {
   "cell_type": "code",
   "execution_count": 11,
   "metadata": {},
   "outputs": [],
   "source": [
    "experiment.test(model, device=device)"
   ]
  },
  {
   "cell_type": "code",
   "execution_count": 12,
   "metadata": {},
   "outputs": [
    {
     "name": "stdout",
     "output_type": "stream",
     "text": [
      "3 32 3\n",
      "torch.Size([32, 3, 3, 3])\n",
      "20\n",
      "0.45949074074074076\n",
      "---\n",
      "32 32 3\n",
      "torch.Size([32, 1, 3, 3])\n",
      "6\n",
      "0.4826388888888889\n",
      "---\n",
      "32 64 1\n",
      "torch.Size([64, 32, 1, 1])\n",
      "26\n",
      "0.44384765625\n",
      "---\n",
      "64 64 3\n",
      "torch.Size([64, 1, 3, 3])\n",
      "8\n",
      "0.4635416666666667\n",
      "---\n",
      "64 128 1\n",
      "torch.Size([128, 64, 1, 1])\n",
      "53\n",
      "0.387451171875\n",
      "---\n",
      "128 128 3\n",
      "torch.Size([128, 1, 3, 3])\n",
      "9\n",
      "0.4487847222222222\n",
      "---\n",
      "128 128 1\n",
      "torch.Size([128, 128, 1, 1])\n",
      "109\n",
      "0.32830810546875\n",
      "---\n",
      "128 128 3\n",
      "torch.Size([128, 1, 3, 3])\n",
      "9\n",
      "0.4210069444444444\n",
      "---\n",
      "128 256 1\n",
      "torch.Size([256, 128, 1, 1])\n",
      "111\n",
      "0.285552978515625\n",
      "---\n",
      "256 256 3\n",
      "torch.Size([256, 1, 3, 3])\n",
      "9\n",
      "0.4444444444444444\n",
      "---\n",
      "256 256 1\n",
      "torch.Size([256, 256, 1, 1])\n",
      "230\n",
      "0.253448486328125\n",
      "---\n",
      "256 256 3\n",
      "torch.Size([256, 1, 3, 3])\n",
      "9\n",
      "0.4114583333333333\n",
      "---\n",
      "256 512 1\n",
      "torch.Size([512, 256, 1, 1])\n",
      "231\n",
      "0.2067413330078125\n",
      "---\n",
      "512 512 3\n",
      "torch.Size([512, 1, 3, 3])\n",
      "9\n",
      "0.4225260416666667\n",
      "---\n",
      "512 512 1\n",
      "torch.Size([512, 512, 1, 1])\n",
      "474\n",
      "0.20558547973632812\n",
      "---\n",
      "512 512 3\n",
      "torch.Size([512, 1, 3, 3])\n",
      "9\n",
      "0.4294704861111111\n",
      "---\n",
      "512 512 1\n",
      "torch.Size([512, 512, 1, 1])\n",
      "472\n",
      "0.1999664306640625\n",
      "---\n",
      "512 512 3\n",
      "torch.Size([512, 1, 3, 3])\n",
      "9\n",
      "0.4244791666666667\n",
      "---\n",
      "512 512 1\n",
      "torch.Size([512, 512, 1, 1])\n",
      "474\n",
      "0.2019195556640625\n",
      "---\n",
      "512 512 3\n",
      "torch.Size([512, 1, 3, 3])\n",
      "9\n",
      "0.4262152777777778\n",
      "---\n",
      "512 512 1\n",
      "torch.Size([512, 512, 1, 1])\n",
      "487\n",
      "0.19121551513671875\n",
      "---\n",
      "512 512 3\n",
      "torch.Size([512, 1, 3, 3])\n",
      "9\n",
      "0.4051649305555556\n",
      "---\n",
      "512 512 1\n",
      "torch.Size([512, 512, 1, 1])\n",
      "479\n",
      "0.18234634399414062\n",
      "---\n",
      "512 512 3\n",
      "torch.Size([512, 1, 3, 3])\n",
      "9\n",
      "0.3997395833333333\n",
      "---\n",
      "512 1024 1\n",
      "torch.Size([1024, 512, 1, 1])\n",
      "477\n",
      "0.164825439453125\n",
      "---\n",
      "1024 1024 3\n",
      "torch.Size([1024, 1, 3, 3])\n",
      "9\n",
      "0.3787977430555556\n",
      "---\n",
      "1024 1024 1\n",
      "torch.Size([1024, 1024, 1, 1])\n",
      "966\n",
      "0.21551895141601562\n",
      "---\n"
     ]
    }
   ],
   "source": [
    "from doren_bnn.xnorpp_sttn import Conv2d_XnorPP_STTN\n",
    "\n",
    "sparsity = []\n",
    "for i, module in enumerate(\n",
    "    filter(lambda m: isinstance(m, Conv2d_XnorPP_STTN), model.modules())\n",
    "):\n",
    "    print(module.in_channels, module.out_channels, module.kernel_size)\n",
    "    weight_ter = module._get_weight_ter()\n",
    "    print(weight_ter.size())\n",
    "\n",
    "    total_num_sparse = 0\n",
    "    max_num_nonsparse = -1\n",
    "    for row in weight_ter:\n",
    "        num_sparse = (row == 0).sum().item()\n",
    "        num_nonsparse = row.numel() - num_sparse\n",
    "\n",
    "        total_num_sparse += num_sparse\n",
    "        if num_nonsparse > max_num_nonsparse:\n",
    "            max_num_nonsparse = num_nonsparse\n",
    "\n",
    "    print(max_num_nonsparse)\n",
    "    print(total_num_sparse / weight_ter.numel())\n",
    "    print(\"---\")\n",
    "\n",
    "    sparsity.append((i, total_num_sparse / weight_ter.numel(), module.kernel_size))"
   ]
  },
  {
   "cell_type": "code",
   "execution_count": 13,
   "metadata": {},
   "outputs": [
    {
     "data": {
      "text/plain": [
       "<matplotlib.legend.Legend at 0x7f8928407970>"
      ]
     },
     "execution_count": 13,
     "metadata": {},
     "output_type": "execute_result"
    },
    {
     "data": {
      "image/png": "[encoded data removed]",
      "text/plain": [
       "<Figure size 432x288 with 1 Axes>"
      ]
     },
     "metadata": {
      "needs_background": "light"
     },
     "output_type": "display_data"
    }
   ],
   "source": [
    "import matplotlib.pyplot as plt\n",
    "\n",
    "ids_1 = [i for (i, _, k) in sparsity if k == 1]\n",
    "vals_1 = [val for (_, val, k) in sparsity if k == 1]\n",
    "plt.scatter(ids_1, vals_1, c=\"red\", label=\"1x1-conv\")\n",
    "\n",
    "ids_3 = [i for (i, _, k) in sparsity if k == 3]\n",
    "vals_3 = [val for (_, val, k) in sparsity if k == 3]\n",
    "plt.scatter(ids_3, vals_3, c=\"blue\", label=\"3x3-conv\")\n",
    "\n",
    "plt.title(\"STTN (w/ learnable)\")\n",
    "plt.xlabel(\"layer no.\")\n",
    "plt.ylabel(\"sparsity\")\n",
    "plt.legend()"
   ]
  }
 ],
 "metadata": {
  "kernelspec": {
   "display_name": "Python 3.10.5 ('.venv': poetry)",
   "language": "python",
   "name": "python3"
  },
  "language_info": {
   "codemirror_mode": {
    "name": "ipython",
    "version": 3
   },
   "file_extension": ".py",
   "mimetype": "text/x-python",
   "name": "python",
   "nbconvert_exporter": "python",
   "pygments_lexer": "ipython3",
   "version": "3.10.5"
  },
  "orig_nbformat": 4,
  "vscode": {
   "interpreter": {
    "hash": "caf069306253663ae2c3f287e65595efbaf9af1e1857b8d76dd0fdbf819c2df8"
   }
  }
 },
 "nbformat": 4,
 "nbformat_minor": 2
}
