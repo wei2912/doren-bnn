{
 "cells": [
  {
   "cell_type": "code",
   "execution_count": 1,
   "metadata": {},
   "outputs": [],
   "source": [
    "%load_ext autoreload\n",
    "%autoreload 2"
   ]
  },
  {
   "cell_type": "code",
   "execution_count": 2,
   "metadata": {},
   "outputs": [],
   "source": [
    "# define training settings\n",
    "NUM_EPOCHS = 150\n",
    "BATCH_SIZE = 128"
   ]
  },
  {
   "cell_type": "code",
   "execution_count": 3,
   "metadata": {},
   "outputs": [],
   "source": [
    "import torch\n",
    "\n",
    "torch.cuda.set_device(2)\n",
    "device = torch.device(\"cuda:2\" if torch.cuda.is_available() else \"cpu\")"
   ]
  },
  {
   "cell_type": "code",
   "execution_count": 4,
   "metadata": {},
   "outputs": [
    {
     "data": {
      "text/plain": [
       "====================================================================================================\n",
       "Layer (type:depth-idx)                             Output Shape              Param #\n",
       "====================================================================================================\n",
       "MobileNet                                          [128, 10]                 --\n",
       "├─Upsample: 1-1                                    [128, 3, 224, 224]        --\n",
       "├─Sequential: 1-2                                  [128, 1024, 1, 1]         --\n",
       "│    └─MobileNet_ConvBlock: 2-1                    [128, 32, 112, 112]       --\n",
       "│    │    └─Sequential: 3-1                        [128, 32, 112, 112]       902\n",
       "│    └─MobileNet_ConvDsBlock: 2-2                  [128, 64, 112, 112]       --\n",
       "│    │    └─Sequential: 3-2                        [128, 64, 112, 112]       2,560\n",
       "│    └─MobileNet_ConvDsBlock: 2-3                  [128, 128, 56, 56]        --\n",
       "│    │    └─Sequential: 3-3                        [128, 128, 56, 56]        9,216\n",
       "│    └─MobileNet_ConvDsBlock: 2-4                  [128, 128, 56, 56]        --\n",
       "│    │    └─Sequential: 3-4                        [128, 128, 56, 56]        18,304\n",
       "│    └─MobileNet_ConvDsBlock: 2-5                  [128, 256, 28, 28]        --\n",
       "│    │    └─Sequential: 3-5                        [128, 256, 28, 28]        34,816\n",
       "│    └─MobileNet_ConvDsBlock: 2-6                  [128, 256, 28, 28]        --\n",
       "│    │    └─Sequential: 3-6                        [128, 256, 28, 28]        69,376\n",
       "│    └─MobileNet_ConvDsBlock: 2-7                  [128, 512, 14, 14]        --\n",
       "│    │    └─Sequential: 3-7                        [128, 512, 14, 14]        135,168\n",
       "│    └─MobileNet_ConvDsBlock: 2-8                  [128, 512, 14, 14]        --\n",
       "│    │    └─Sequential: 3-8                        [128, 512, 14, 14]        269,824\n",
       "│    └─MobileNet_ConvDsBlock: 2-9                  [128, 512, 14, 14]        --\n",
       "│    │    └─Sequential: 3-9                        [128, 512, 14, 14]        269,824\n",
       "│    └─MobileNet_ConvDsBlock: 2-10                 [128, 512, 14, 14]        --\n",
       "│    │    └─Sequential: 3-10                       [128, 512, 14, 14]        269,824\n",
       "│    └─MobileNet_ConvDsBlock: 2-11                 [128, 512, 14, 14]        --\n",
       "│    │    └─Sequential: 3-11                       [128, 512, 14, 14]        269,824\n",
       "│    └─MobileNet_ConvDsBlock: 2-12                 [128, 512, 14, 14]        --\n",
       "│    │    └─Sequential: 3-12                       [128, 512, 14, 14]        269,824\n",
       "│    └─MobileNet_ConvDsBlock: 2-13                 [128, 1024, 7, 7]         --\n",
       "│    │    └─Sequential: 3-13                       [128, 1024, 7, 7]         532,480\n",
       "│    └─MobileNet_ConvDsBlock: 2-14                 [128, 1024, 7, 7]         --\n",
       "│    │    └─Sequential: 3-14                       [128, 1024, 7, 7]         1,063,936\n",
       "│    └─AdaptiveAvgPool2d: 2-15                     [128, 1024, 1, 1]         --\n",
       "├─Linear: 1-3                                      [128, 10]                 10,250\n",
       "====================================================================================================\n",
       "Total params: 3,226,128\n",
       "Trainable params: 3,226,128\n",
       "Non-trainable params: 0\n",
       "Total mult-adds (G): 72.67\n",
       "====================================================================================================\n",
       "Input size (MB): 1.57\n",
       "Forward/backward pass size (MB): 10430.20\n",
       "Params size (MB): 12.90\n",
       "Estimated Total Size (MB): 10444.67\n",
       "===================================================================================================="
      ]
     },
     "execution_count": 4,
     "metadata": {},
     "output_type": "execute_result"
    }
   ],
   "source": [
    "from doren_bnn.mobilenet import MobileNet, NetType\n",
    "from torchinfo import summary\n",
    "\n",
    "NETTYPE = NetType.XNORPP_SCA\n",
    "model = MobileNet(3, num_classes=10, nettype=NETTYPE).to(device)\n",
    "\n",
    "summary(model, input_size=(BATCH_SIZE, 3, 32, 32))"
   ]
  },
  {
   "cell_type": "code",
   "execution_count": 5,
   "metadata": {},
   "outputs": [],
   "source": [
    "from torch.nn import CrossEntropyLoss\n",
    "from torch.optim import AdamW\n",
    "\n",
    "# from torch.optim.lr_scheduler import CosineAnnealingWarmRestarts\n",
    "from torch.optim.lr_scheduler import CosineAnnealingLR\n",
    "\n",
    "criterion = CrossEntropyLoss().to(device)\n",
    "optimizer = AdamW(model.parameters(), lr=1e-3, weight_decay=5e-6)\n",
    "# scheduler = CosineAnnealingWarmRestarts(optimizer, 25, eta_min=1e-4)\n",
    "scheduler = CosineAnnealingLR(optimizer, NUM_EPOCHS)"
   ]
  },
  {
   "cell_type": "code",
   "execution_count": 6,
   "metadata": {},
   "outputs": [],
   "source": [
    "# hyperparameters\n",
    "ALPHA = 1e-2\n",
    "LAMBDA = 1e-5"
   ]
  },
  {
   "cell_type": "code",
   "execution_count": 7,
   "metadata": {},
   "outputs": [
    {
     "name": "stdout",
     "output_type": "stream",
     "text": [
      "mobilenet-xnorpp-sca-full-0.01-1e-05\n",
      "Files already downloaded and verified\n",
      "Files already downloaded and verified\n"
     ]
    }
   ],
   "source": [
    "from doren_bnn.utils import Dataset, Experiment\n",
    "\n",
    "EXPERIMENT_ID = f\"mobilenet-xnorpp-sca-cifar10-full-{ALPHA}-{LAMBDA}\"\n",
    "print(EXPERIMENT_ID)\n",
    "experiment = Experiment(EXPERIMENT_ID, Dataset.CIFAR10, BATCH_SIZE)"
   ]
  },
  {
   "cell_type": "code",
   "execution_count": 8,
   "metadata": {},
   "outputs": [
    {
     "data": {
      "application/vnd.jupyter.widget-view+json": {
       "model_id": "6133df8b4efa45b9b663a9f368e512eb",
       "version_major": 2,
       "version_minor": 0
      },
      "text/plain": [
       "  0%|          | 0/150 [00:00<?, ?it/s]"
      ]
     },
     "metadata": {},
     "output_type": "display_data"
    }
   ],
   "source": [
    "experiment.train(\n",
    "    device,\n",
    "    model,\n",
    "    criterion,\n",
    "    optimizer,\n",
    "    scheduler,\n",
    "    NUM_EPOCHS,\n",
    "    resume=False,\n",
    "    alpha=ALPHA,\n",
    "    lamb=LAMBDA,\n",
    ")"
   ]
  },
  {
   "cell_type": "markdown",
   "metadata": {},
   "source": []
  }
 ],
 "metadata": {
  "kernelspec": {
   "display_name": "Python 3.9.5 ('doren-bnn-Z3Z8sIfT-py3.9')",
   "language": "python",
   "name": "python3"
  },
  "language_info": {
   "codemirror_mode": {
    "name": "ipython",
    "version": 3
   },
   "file_extension": ".py",
   "mimetype": "text/x-python",
   "name": "python",
   "nbconvert_exporter": "python",
   "pygments_lexer": "ipython3",
   "version": "3.9.5"
  },
  "orig_nbformat": 4,
  "vscode": {
   "interpreter": {
    "hash": "030e8e0f9d0cf0c089a351265800839f68dc01acd196def57638ff0b29858f74"
   }
  }
 },
 "nbformat": 4,
 "nbformat_minor": 2
}
